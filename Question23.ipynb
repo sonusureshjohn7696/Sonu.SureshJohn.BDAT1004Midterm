{
 "cells": [
  {
   "cell_type": "markdown",
   "id": "0418b6a8-57fd-4487-a6eb-ae735677bd2d",
   "metadata": {},
   "source": [
    "#Question 22\n",
    "In a jupyter notebook solve the following question using both python and SQL. Please upload the notebook to GitHub and provide the link submission box below.\r\n",
    "\r\n",
    "\r\n",
    "\r\n",
    "+---------------+---------+\r\n",
    "| Column Name   | Type    |\r\n",
    "+---------------+---------+\r\n",
    "| id            | int     |\r\n",
    "| recordDate    | date    |\r\n",
    "| temperature   | int     |\r\n",
    "+---------------+---------+\r\n",
    "id is the column with unique values for this table.\r\n",
    "This table contains information about the temperature on a certain day.\r\n",
    " \r\n",
    " \r\n",
    "\r\n",
    "Write a solution to find all dates' Id with higher temperatures compared to its previous dates (yesterday).\r\n",
    "\r\n",
    "Return the result table in any order.\r\n",
    "\r\n",
    "Please use the following input Weather table for your solution. To receive full marks you will need to create the database, create the table, insert the data below and execute the SQL query.\r\n",
    "\r\n",
    " \r\n",
    "\r\n",
    "Input: \r\n",
    "Weather table:\r\n",
    "+----+------------+-------------+\r\n",
    "| id | recordDate | temperature |\r\n",
    "+----+------------+-------------+\r\n",
    "| 1  | 2015-01-01 | 10          |\r\n",
    "| 2  | 2015-01-02 | 25          |\r\n",
    "| 3  | 2015-01-03 | 20          |\r\n",
    "| 4  | 2015-01-04 | 30          |\r\n",
    "+----+------------+-------------+\r\n",
    "Output: \r\n",
    "+----+\r\n",
    "| id |\r\n",
    "+----+\r\n",
    "| 2  |\r\n",
    "| 4  |\r\n",
    "+----+\r\n",
    "Explanation: \r\n",
    "In 2015-01-02, the temperature was higher than the previous day (10 -> 25).\r\n",
    "In 2015-01-04, the temperature was higher than the previous day (20 -> 30)."
   ]
  },
  {
   "cell_type": "code",
   "execution_count": 18,
   "id": "7c642fac-2d94-4027-a70e-a73e7491e873",
   "metadata": {},
   "outputs": [
    {
     "name": "stdin",
     "output_type": "stream",
     "text": [
      "Enter the indentation (first argument):  0\n",
      "Enter the maximum number of stars (second argument):  2\n"
     ]
    },
    {
     "name": "stdout",
     "output_type": "stream",
     "text": [
      "**\n",
      " *\n",
      "**\n"
     ]
    }
   ],
   "source": [
    "def tough(indent, stars):\n",
    "    if stars == 0:\n",
    "        return\n",
    "    \n",
    "    \n",
    "    print(' ' * indent + '*' * stars)\n",
    "    \n",
    "\n",
    "    tough(indent + 1, stars - 1)\n",
    "    \n",
    "  \n",
    "    if stars > 1:\n",
    "        print(' ' * indent + '*' * stars)\n",
    "\n",
    "def f(indent, max_stars):\n",
    "\n",
    "    actual_stars = 2 ** (max_stars.bit_length() - 1)\n",
    "    tough(indent, actual_stars)\n",
    "\n",
    "\n",
    "indent = int(input(\"Enter the indentation (first argument): \"))\n",
    "max_stars = int(input(\"Enter the maximum number of stars (second argument): \"))\n",
    "\n",
    "\n",
    "f(indent, max_stars)"
   ]
  },
  {
   "cell_type": "code",
   "execution_count": null,
   "id": "8813c261-d4b0-4fc5-8391-6aa3949252f0",
   "metadata": {},
   "outputs": [],
   "source": []
  }
 ],
 "metadata": {
  "kernelspec": {
   "display_name": "Python 3 (ipykernel)",
   "language": "python",
   "name": "python3"
  },
  "language_info": {
   "codemirror_mode": {
    "name": "ipython",
    "version": 3
   },
   "file_extension": ".py",
   "mimetype": "text/x-python",
   "name": "python",
   "nbconvert_exporter": "python",
   "pygments_lexer": "ipython3",
   "version": "3.12.4"
  }
 },
 "nbformat": 4,
 "nbformat_minor": 5
}
