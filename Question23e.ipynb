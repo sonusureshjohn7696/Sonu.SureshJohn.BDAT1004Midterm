{
 "cells": [
  {
   "cell_type": "markdown",
   "id": "0418b6a8-57fd-4487-a6eb-ae735677bd2d",
   "metadata": {},
   "source": [
    "# Question 23\n",
    "In a jupyter notebook solve the following question using python. Please upload the notebook to GitHub and provide the link submission box below.\r\n",
    "\r\n",
    "\r\n",
    "\r\n",
    "Develop a recursive function tough() that takes two nonnegative integer arguments and outputs a pattern as shown below. Hint: The first argument represents the indentation of the pattern, where the second argument -- always a pattern of 2 indicates the number *s in the longest line of *s in the pattern\r\n",
    "\r\n",
    "as higher than the previous day (20 -> 30)."
   ]
  },
  {
   "cell_type": "code",
   "execution_count": 3,
   "id": "7c642fac-2d94-4027-a70e-a73e7491e873",
   "metadata": {},
   "outputs": [
    {
     "name": "stdin",
     "output_type": "stream",
     "text": [
      "Enter the indentation (first argument):  0\n",
      "Enter the maximum number of stars (second argument):  2\n"
     ]
    },
    {
     "name": "stdout",
     "output_type": "stream",
     "text": [
      "**\n",
      " *\n",
      "**\n"
     ]
    }
   ],
   "source": [
    "def tough(indent, stars):\n",
    "    if stars == 0:\n",
    "        return\n",
    "    \n",
    "    \n",
    "    print(' ' * indent + '*' * stars)\n",
    "    \n",
    "\n",
    "    tough(indent + 1, stars - 1)\n",
    "    \n",
    "  \n",
    "    if stars > 1:\n",
    "        print(' ' * indent + '*' * stars)\n",
    "\n",
    "def f(indent, max_stars):\n",
    "\n",
    "    actual_stars = 2 ** (max_stars.bit_length() - 1)\n",
    "    tough(indent, actual_stars)\n",
    "\n",
    "\n",
    "indent = int(input(\"Enter the indentation (first argument): \"))\n",
    "max_stars = int(input(\"Enter the maximum number of stars (second argument): \"))\n",
    "\n",
    "\n",
    "f(indent, max_stars)"
   ]
  },
  {
   "cell_type": "code",
   "execution_count": null,
   "id": "8813c261-d4b0-4fc5-8391-6aa3949252f0",
   "metadata": {},
   "outputs": [],
   "source": []
  }
 ],
 "metadata": {
  "kernelspec": {
   "display_name": "Python 3 (ipykernel)",
   "language": "python",
   "name": "python3"
  },
  "language_info": {
   "codemirror_mode": {
    "name": "ipython",
    "version": 3
   },
   "file_extension": ".py",
   "mimetype": "text/x-python",
   "name": "python",
   "nbconvert_exporter": "python",
   "pygments_lexer": "ipython3",
   "version": "3.12.4"
  }
 },
 "nbformat": 4,
 "nbformat_minor": 5
}
