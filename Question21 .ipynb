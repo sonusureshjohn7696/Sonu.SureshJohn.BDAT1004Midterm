{
 "cells": [
  {
   "cell_type": "markdown",
   "id": "7c04057d-bad6-432d-ad10-25248de871b8",
   "metadata": {},
   "source": [
    "#Question 21\n",
    "In a jupyter notebook solve the following question. Please upload the notebook to GitHub and provide the link submission box below.\r\n",
    "\r\n",
    " \r\n",
    "\r\n",
    "__int()__: Constructor that takes as input a pair of Point objects that represent the ends points of the line segment\r\n",
    "\r\n",
    "Length():: returns the length if the segment \r\n",
    "\r\n",
    "Slope() returns the slope of the segment of none if the slope is unbounded \r\n",
    "\r\n",
    " \r\n",
    "\r\n",
    ">>> p1 = Point(3,4)\r\n",
    "\r\n",
    ">>> p2 = Point()\r\n",
    "\r\n",
    ">>> s = Segment(p1,p2)\r\n",
    "\r\n",
    ">>> s.length()\r\n",
    "\r\n",
    "5.0\r\n",
    "\r\n",
    ">>> s.slope()\r\n",
    "\r\n",
    "0.75"
   ]
  },
  {
   "cell_type": "code",
   "execution_count": 55,
   "id": "dcae25c9-46c6-43b9-b78a-61b21a8846d1",
   "metadata": {},
   "outputs": [
    {
     "name": "stdout",
     "output_type": "stream",
     "text": [
      "Enter the values of coordinates for Point 1:\n"
     ]
    },
    {
     "name": "stdin",
     "output_type": "stream",
     "text": [
      "Enter the value of x-coordinate Point 1:  3\n",
      "Enter the value of y-coordinate  Point 1:  4\n"
     ]
    },
    {
     "name": "stdout",
     "output_type": "stream",
     "text": [
      "Enter the values of coordinates for Point 2:\n"
     ]
    },
    {
     "name": "stdin",
     "output_type": "stream",
     "text": [
      "Enter the value of x-coordinate Point 2:  0\n",
      "Enter the value of y-coordinate  Point 2:  0\n"
     ]
    },
    {
     "name": "stdout",
     "output_type": "stream",
     "text": [
      "\n",
      "Length =: 5.00\n",
      "Slope =: 1.33\n"
     ]
    }
   ],
   "source": [
    "import math\n",
    "\n",
    "class Point:\n",
    "    def __init__(self, x_coordinates, y_coordinates):\n",
    "        self.x =  x_coordinates\n",
    "        self.y = y_coordinates\n",
    "\n",
    "class LineSegment:\n",
    "    def __init__(self, pt1, pt2):\n",
    "        self.pt1 = pt1\n",
    "        self.pt2 = pt2\n",
    "\n",
    "    def Length(self):\n",
    "        dx = self.pt2.x - self.pt1.x\n",
    "        dy = self.pt2.y - self.pt1.y\n",
    "        return math.sqrt(dx**2 + dy**2)\n",
    "\n",
    "    def Slope(self):\n",
    "        dx = self.pt2.x - self.pt1.x\n",
    "        dy = self.pt2.y - self.pt1.y\n",
    "        \n",
    "        if dx == 0:\n",
    "            return None  \n",
    "        \n",
    "        return dy / dx\n",
    "\n",
    "def get_point_input(point_name):\n",
    "    print(f\"Enter the values of coordinates for {point_name}:\")\n",
    "    x = float(input(f\"Enter the value of x-coordinate {point_name}: \"))\n",
    "    y = float(input(f\"Enter the value of y-coordinate  {point_name}: \"))\n",
    "    return Point(x, y)\n",
    "\n",
    "def main():\n",
    "\n",
    "\n",
    "    point1 = get_point_input(\"Point 1\")\n",
    "    point2 = get_point_input(\"Point 2\")\n",
    "\n",
    " \n",
    "    line = LineSegment(point1, point2)\n",
    "\n",
    " \n",
    "    length = line.Length()\n",
    "    print(f\"\\nLength =: {length:.2f}\")\n",
    "\n",
    "\n",
    "    slope = line.Slope()\n",
    "    if slope is None:\n",
    "        print(\"Slope: Undefined (vertical line)\")\n",
    "    else:\n",
    "        print(f\"Slope =: {slope:.2f}\")\n",
    "\n",
    "if __name__ == \"__main__\":\n",
    "    main()"
   ]
  },
  {
   "cell_type": "code",
   "execution_count": null,
   "id": "0ac1cce7-239c-4986-b7b7-e29dc61a2a97",
   "metadata": {},
   "outputs": [],
   "source": []
  },
  {
   "cell_type": "code",
   "execution_count": null,
   "id": "df2d3deb-082b-4444-8ca7-c979f7281bd5",
   "metadata": {},
   "outputs": [],
   "source": []
  },
  {
   "cell_type": "code",
   "execution_count": null,
   "id": "6d95c761-740c-4e52-8e69-6ec40e1e91af",
   "metadata": {},
   "outputs": [],
   "source": []
  }
 ],
 "metadata": {
  "kernelspec": {
   "display_name": "Python 3 (ipykernel)",
   "language": "python",
   "name": "python3"
  },
  "language_info": {
   "codemirror_mode": {
    "name": "ipython",
    "version": 3
   },
   "file_extension": ".py",
   "mimetype": "text/x-python",
   "name": "python",
   "nbconvert_exporter": "python",
   "pygments_lexer": "ipython3",
   "version": "3.12.4"
  }
 },
 "nbformat": 4,
 "nbformat_minor": 5
}
